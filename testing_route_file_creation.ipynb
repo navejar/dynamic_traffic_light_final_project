{
 "cells": [
  {
   "cell_type": "markdown",
   "metadata": {},
   "source": [
    "This code below was used to programmatically generate the 24-hour testing rou.xml file. So, please run this code to generate the testing rou.xml file."
   ]
  },
  {
   "cell_type": "code",
   "execution_count": 1,
   "metadata": {},
   "outputs": [],
   "source": [
    "import xml.etree.ElementTree as ET\n",
    "import random\n",
    "\n",
    "route = ET.Element(\"routes\")\n",
    "route.append(ET.Element('route', id='route01', edges = '435326187#0 435677953#0 -435677953#2 377882482#0'))\n",
    "route.append(ET.Element('route', id='route02', edges = \"-377882482#1 435677953#0 57782117#0 -57782117#3 435677955#0\"))\n",
    "route.append(ET.Element('route', id='route03', edges = \"-435677953#2 377882482#0\"))\n",
    "route.append(ET.Element('route', id='route04', edges = \"-435326192#1 435677953#0 -435677953#2 -435326187#1\"))\n",
    "route.append(ET.Element('route', id='route05', edges = \"435677953#0 57782117#0 -57782117#3 -1303785156#8\"))\n",
    "route.append(ET.Element('route', id='route06', edges = \"1303785156#0 -435677953#2 435326192#0\"))\n",
    "route.append(ET.Element('route', id='route07', edges = '-435677955#1 -1303785156#8 1303785156#0 57782117#0'))\n",
    "route.append(ET.Element('route', id='route08', edges = \"-57782117#3 -1303785156#8 1303785156#0 -435677953#2\"))\n",
    "route.append(ET.Element('vType', id = 'taxi', length = \"5.0\", minGap = \"1.0\", maxSpeed=\"16.67\", decel=\"2.1\")) #setting taxi vehicle type for later reference\n",
    "departTime = 0.0\n",
    "for i in range(0, 86400):\n",
    "   route.append(ET.Element('vehicle', id = str(i), route = f'route0{random.randint(1,9)}', type='taxi', depart = str(departTime)))\n",
    "   departTime+=0.10\n",
    "ET.ElementTree(route).write(f'testing_sumo_route_file.rou.xml')"
   ]
  }
 ],
 "metadata": {
  "kernelspec": {
   "display_name": "Python 3",
   "language": "python",
   "name": "python3"
  },
  "language_info": {
   "codemirror_mode": {
    "name": "ipython",
    "version": 3
   },
   "file_extension": ".py",
   "mimetype": "text/x-python",
   "name": "python",
   "nbconvert_exporter": "python",
   "pygments_lexer": "ipython3",
   "version": "3.12.3"
  }
 },
 "nbformat": 4,
 "nbformat_minor": 2
}
